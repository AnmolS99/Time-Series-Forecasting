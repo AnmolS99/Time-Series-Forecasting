{
 "cells": [
  {
   "cell_type": "code",
   "execution_count": 1,
   "metadata": {},
   "outputs": [],
   "source": [
    "import math\n",
    "from matplotlib import pyplot as plt\n",
    "import numpy as np\n",
    "import tensorflow as tf\n",
    "import random\n",
    "\n",
    "from preprocessing import Preprocessor\n",
    "from network import RNN"
   ]
  },
  {
   "cell_type": "code",
   "execution_count": 2,
   "metadata": {},
   "outputs": [
    {
     "name": "stderr",
     "output_type": "stream",
     "text": [
      "2022-05-05 13:42:26.396896: I tensorflow/core/platform/cpu_feature_guard.cc:151] This TensorFlow binary is optimized with oneAPI Deep Neural Network Library (oneDNN) to use the following CPU instructions in performance-critical operations:  SSE4.2\n",
      "To enable them in other operations, rebuild TensorFlow with the appropriate compiler flags.\n"
     ]
    }
   ],
   "source": [
    "seq_len = 36\n",
    "epochs = 1\n",
    "batch_size = 256\n",
    "alt_forecasting = False\n",
    "\n",
    "pp = Preprocessor(train_path=\"datasets/no1_train.csv\",\n",
    "                    val_path=\"datasets/no1_validation.csv\",\n",
    "                    alt_forecasting=alt_forecasting)\n",
    "train_df, val_df, X_feat = pp.preprocess()\n",
    "rnn = RNN(seq_len=seq_len, num_feat=len(X_feat))\n",
    "\n",
    "train_X = pp.df_to_x(train_df[X_feat], seq_len=seq_len, noise_percent=0.25)\n",
    "train_Y = pp.df_to_y(train_df[\"y\"], seq_len=seq_len)\n",
    "val_X = pp.df_to_x(val_df[X_feat], seq_len=seq_len)\n",
    "val_Y = pp.df_to_y(val_df[\"y\"], seq_len=seq_len)\n"
   ]
  },
  {
   "cell_type": "code",
   "execution_count": 3,
   "metadata": {},
   "outputs": [
    {
     "data": {
      "text/html": [
       "<div>\n",
       "<style scoped>\n",
       "    .dataframe tbody tr th:only-of-type {\n",
       "        vertical-align: middle;\n",
       "    }\n",
       "\n",
       "    .dataframe tbody tr th {\n",
       "        vertical-align: top;\n",
       "    }\n",
       "\n",
       "    .dataframe thead th {\n",
       "        text-align: right;\n",
       "    }\n",
       "</style>\n",
       "<table border=\"1\" class=\"dataframe\">\n",
       "  <thead>\n",
       "    <tr style=\"text-align: right;\">\n",
       "      <th></th>\n",
       "      <th>y</th>\n",
       "      <th>y_with_struct_imb</th>\n",
       "      <th>struct_imb</th>\n",
       "    </tr>\n",
       "  </thead>\n",
       "  <tbody>\n",
       "    <tr>\n",
       "      <th>288</th>\n",
       "      <td>-0.280967</td>\n",
       "      <td>-0.280967</td>\n",
       "      <td>-0.142746</td>\n",
       "    </tr>\n",
       "    <tr>\n",
       "      <th>289</th>\n",
       "      <td>-0.294177</td>\n",
       "      <td>-0.294177</td>\n",
       "      <td>-0.167603</td>\n",
       "    </tr>\n",
       "    <tr>\n",
       "      <th>290</th>\n",
       "      <td>-0.287948</td>\n",
       "      <td>-0.287948</td>\n",
       "      <td>-0.190561</td>\n",
       "    </tr>\n",
       "    <tr>\n",
       "      <th>291</th>\n",
       "      <td>-0.306442</td>\n",
       "      <td>-0.306442</td>\n",
       "      <td>-0.212608</td>\n",
       "    </tr>\n",
       "    <tr>\n",
       "      <th>292</th>\n",
       "      <td>-0.338655</td>\n",
       "      <td>-0.338655</td>\n",
       "      <td>-0.234732</td>\n",
       "    </tr>\n",
       "    <tr>\n",
       "      <th>...</th>\n",
       "      <td>...</td>\n",
       "      <td>...</td>\n",
       "      <td>...</td>\n",
       "    </tr>\n",
       "    <tr>\n",
       "      <th>28131</th>\n",
       "      <td>-0.410741</td>\n",
       "      <td>-0.410741</td>\n",
       "      <td>-0.082871</td>\n",
       "    </tr>\n",
       "    <tr>\n",
       "      <th>28132</th>\n",
       "      <td>-0.413410</td>\n",
       "      <td>-0.413410</td>\n",
       "      <td>-0.059497</td>\n",
       "    </tr>\n",
       "    <tr>\n",
       "      <th>28133</th>\n",
       "      <td>-0.394465</td>\n",
       "      <td>-0.394465</td>\n",
       "      <td>-0.024063</td>\n",
       "    </tr>\n",
       "    <tr>\n",
       "      <th>28134</th>\n",
       "      <td>-0.412317</td>\n",
       "      <td>-0.412317</td>\n",
       "      <td>-0.148530</td>\n",
       "    </tr>\n",
       "    <tr>\n",
       "      <th>28135</th>\n",
       "      <td>-0.428036</td>\n",
       "      <td>-0.428036</td>\n",
       "      <td>-0.104216</td>\n",
       "    </tr>\n",
       "  </tbody>\n",
       "</table>\n",
       "<p>27848 rows × 3 columns</p>\n",
       "</div>"
      ],
      "text/plain": [
       "              y  y_with_struct_imb  struct_imb\n",
       "288   -0.280967          -0.280967   -0.142746\n",
       "289   -0.294177          -0.294177   -0.167603\n",
       "290   -0.287948          -0.287948   -0.190561\n",
       "291   -0.306442          -0.306442   -0.212608\n",
       "292   -0.338655          -0.338655   -0.234732\n",
       "...         ...                ...         ...\n",
       "28131 -0.410741          -0.410741   -0.082871\n",
       "28132 -0.413410          -0.413410   -0.059497\n",
       "28133 -0.394465          -0.394465   -0.024063\n",
       "28134 -0.412317          -0.412317   -0.148530\n",
       "28135 -0.428036          -0.428036   -0.104216\n",
       "\n",
       "[27848 rows x 3 columns]"
      ]
     },
     "execution_count": 3,
     "metadata": {},
     "output_type": "execute_result"
    }
   ],
   "source": [
    "val_df.columns\n",
    "val_df[[\"y\", \"y_with_struct_imb\", \"struct_imb\"]]"
   ]
  },
  {
   "cell_type": "code",
   "execution_count": 5,
   "metadata": {},
   "outputs": [],
   "source": [
    "# rnn.train_model(train_X,\n",
    "#                 train_Y,\n",
    "#                 validation_data=(val_X, val_Y),\n",
    "#                 epochs=epochs,\n",
    "#                 batch_size=batch_size)"
   ]
  },
  {
   "cell_type": "code",
   "execution_count": 6,
   "metadata": {},
   "outputs": [
    {
     "ename": "TypeError",
     "evalue": "predict_multiple_series() missing 2 required positional arguments: 'y_prev_true' and 'y_with_struct_imb'",
     "output_type": "error",
     "traceback": [
      "\u001b[0;31m---------------------------------------------------------------------------\u001b[0m",
      "\u001b[0;31mTypeError\u001b[0m                                 Traceback (most recent call last)",
      "\u001b[1;32m/Users/anmolsingh/OneDrive - NTNU/v22/Deep_Learning/time-series-forecasting/test.ipynb Cell 5'\u001b[0m in \u001b[0;36m<cell line: 1>\u001b[0;34m()\u001b[0m\n\u001b[0;32m----> <a href='vscode-notebook-cell:/Users/anmolsingh/OneDrive%20-%20NTNU/v22/Deep_Learning/time-series-forecasting/test.ipynb#ch0000004?line=0'>1</a>\u001b[0m rnn\u001b[39m.\u001b[39;49mpredict_multiple_series(x\u001b[39m=\u001b[39;49mval_X,\n\u001b[1;32m      <a href='vscode-notebook-cell:/Users/anmolsingh/OneDrive%20-%20NTNU/v22/Deep_Learning/time-series-forecasting/test.ipynb#ch0000004?line=1'>2</a>\u001b[0m                             y\u001b[39m=\u001b[39;49mval_Y,\n\u001b[1;32m      <a href='vscode-notebook-cell:/Users/anmolsingh/OneDrive%20-%20NTNU/v22/Deep_Learning/time-series-forecasting/test.ipynb#ch0000004?line=2'>3</a>\u001b[0m                             start\u001b[39m=\u001b[39;49m\u001b[39m0\u001b[39;49m,\n\u001b[1;32m      <a href='vscode-notebook-cell:/Users/anmolsingh/OneDrive%20-%20NTNU/v22/Deep_Learning/time-series-forecasting/test.ipynb#ch0000004?line=3'>4</a>\u001b[0m                             steps_ahead\u001b[39m=\u001b[39;49m\u001b[39m24\u001b[39;49m,\n\u001b[1;32m      <a href='vscode-notebook-cell:/Users/anmolsingh/OneDrive%20-%20NTNU/v22/Deep_Learning/time-series-forecasting/test.ipynb#ch0000004?line=4'>5</a>\u001b[0m                             num_series\u001b[39m=\u001b[39;49m\u001b[39m6\u001b[39;49m,\n\u001b[1;32m      <a href='vscode-notebook-cell:/Users/anmolsingh/OneDrive%20-%20NTNU/v22/Deep_Learning/time-series-forecasting/test.ipynb#ch0000004?line=5'>6</a>\u001b[0m                             random_series\u001b[39m=\u001b[39;49m\u001b[39mTrue\u001b[39;49;00m,\n\u001b[1;32m      <a href='vscode-notebook-cell:/Users/anmolsingh/OneDrive%20-%20NTNU/v22/Deep_Learning/time-series-forecasting/test.ipynb#ch0000004?line=6'>7</a>\u001b[0m                             alt_forecasting\u001b[39m=\u001b[39;49malt_forecasting)\n",
      "\u001b[0;31mTypeError\u001b[0m: predict_multiple_series() missing 2 required positional arguments: 'y_prev_true' and 'y_with_struct_imb'"
     ]
    }
   ],
   "source": [
    "rnn.predict_multiple_series(x=val_X,\n",
    "                            y=val_Y,\n",
    "                            start=0,\n",
    "                            steps_ahead=24,\n",
    "                            num_series=6,\n",
    "                            random_series=True,\n",
    "                            alt_forecasting=alt_forecasting)"
   ]
  }
 ],
 "metadata": {
  "interpreter": {
   "hash": "ca17c1f93d9cd2e095017b4da7ea2c1b4c751e519b05bc6c78eeb3e5f59d175a"
  },
  "kernelspec": {
   "display_name": "Python 3.8.5 ('venv': venv)",
   "language": "python",
   "name": "python3"
  },
  "language_info": {
   "codemirror_mode": {
    "name": "ipython",
    "version": 3
   },
   "file_extension": ".py",
   "mimetype": "text/x-python",
   "name": "python",
   "nbconvert_exporter": "python",
   "pygments_lexer": "ipython3",
   "version": "3.8.5"
  },
  "orig_nbformat": 4
 },
 "nbformat": 4,
 "nbformat_minor": 2
}
