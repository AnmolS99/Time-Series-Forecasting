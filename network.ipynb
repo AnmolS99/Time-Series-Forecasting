{
 "cells": [
  {
   "cell_type": "code",
   "execution_count": 7,
   "metadata": {},
   "outputs": [],
   "source": [
    "from preprocessing import Preprocessor\n",
    "from network import RNN"
   ]
  },
  {
   "cell_type": "code",
   "execution_count": 8,
   "metadata": {},
   "outputs": [],
   "source": [
    "pp = Preprocessor(train_path=\"datasets/no1_train.csv\", val_path=\"datasets/no1_validation.csv\")\n",
    "train_df, val_df = pp.preprocess()"
   ]
  },
  {
   "cell_type": "code",
   "execution_count": 9,
   "metadata": {},
   "outputs": [],
   "source": [
    "seq_len = 72\n",
    "X_feat = [\"hydro\", \"micro\", \"thermal\", \"wind\", \"river\", \"total\", \"sys_reg\", \"flow\", \"time_of_day_sin\", \"time_of_day_cos\", \"time_of_week_sin\", \"time_of_week_cos\", \"time_of_year_sin\", \"time_of_year_cos\", \"y_24h\", \"y_yesterday\", \"y_prev\"]\n",
    "num_feat = len(X_feat)\n",
    "rnn = RNN(seq_len=seq_len, num_feat=num_feat)"
   ]
  },
  {
   "cell_type": "code",
   "execution_count": 10,
   "metadata": {},
   "outputs": [],
   "source": [
    "train_X = pp.df_to_x(train_df[X_feat], seq_len=seq_len)\n",
    "train_Y = pp.df_to_y(train_df[\"y\"], seq_len=seq_len)\n",
    "val_X = pp.df_to_x(val_df[X_feat], seq_len=seq_len)\n",
    "val_Y = pp.df_to_y(val_df[\"y\"], seq_len=seq_len)"
   ]
  },
  {
   "cell_type": "code",
   "execution_count": 11,
   "metadata": {},
   "outputs": [
    {
     "name": "stdout",
     "output_type": "stream",
     "text": [
      "Epoch 1/7\n"
     ]
    },
    {
     "name": "stderr",
     "output_type": "stream",
     "text": [
      "2022-04-21 17:17:05.432034: I tensorflow/core/grappler/optimizers/custom_graph_optimizer_registry.cc:113] Plugin optimizer for device_type GPU is enabled.\n",
      "2022-04-21 17:17:05.827842: I tensorflow/core/grappler/optimizers/custom_graph_optimizer_registry.cc:113] Plugin optimizer for device_type GPU is enabled.\n",
      "2022-04-21 17:17:06.472599: I tensorflow/core/grappler/optimizers/custom_graph_optimizer_registry.cc:113] Plugin optimizer for device_type GPU is enabled.\n"
     ]
    },
    {
     "name": "stdout",
     "output_type": "stream",
     "text": [
      "878/878 [==============================] - ETA: 0s - loss: 0.0057"
     ]
    },
    {
     "name": "stderr",
     "output_type": "stream",
     "text": [
      "2022-04-21 17:17:59.761422: I tensorflow/core/grappler/optimizers/custom_graph_optimizer_registry.cc:113] Plugin optimizer for device_type GPU is enabled.\n",
      "2022-04-21 17:17:59.865309: I tensorflow/core/grappler/optimizers/custom_graph_optimizer_registry.cc:113] Plugin optimizer for device_type GPU is enabled.\n"
     ]
    },
    {
     "name": "stdout",
     "output_type": "stream",
     "text": [
      "878/878 [==============================] - 58s 64ms/step - loss: 0.0057 - val_loss: 0.0041\n",
      "Epoch 2/7\n",
      "878/878 [==============================] - 55s 63ms/step - loss: 9.6742e-04 - val_loss: 0.0029\n",
      "Epoch 3/7\n",
      "878/878 [==============================] - 56s 63ms/step - loss: 8.0651e-04 - val_loss: 0.0027\n",
      "Epoch 4/7\n",
      "878/878 [==============================] - 54s 62ms/step - loss: 7.3172e-04 - val_loss: 0.0028\n",
      "Epoch 5/7\n",
      "878/878 [==============================] - 54s 62ms/step - loss: 6.8273e-04 - val_loss: 0.0021\n",
      "Epoch 6/7\n",
      "878/878 [==============================] - 53s 61ms/step - loss: 6.3663e-04 - val_loss: 0.0018\n",
      "Epoch 7/7\n",
      "878/878 [==============================] - 53s 60ms/step - loss: 5.9214e-04 - val_loss: 0.0013\n"
     ]
    },
    {
     "data": {
      "text/plain": [
       "<keras.callbacks.History at 0x1444b0370>"
      ]
     },
     "execution_count": 11,
     "metadata": {},
     "output_type": "execute_result"
    }
   ],
   "source": [
    "# Maybe change batch_size to make training go faster\n",
    "rnn.model.fit(train_X,\n",
    "                train_Y,\n",
    "                validation_data=(val_X, val_Y),\n",
    "                epochs=7,\n",
    "                batch_size=256)"
   ]
  },
  {
   "cell_type": "code",
   "execution_count": 12,
   "metadata": {},
   "outputs": [
    {
     "name": "stderr",
     "output_type": "stream",
     "text": [
      "2022-04-21 17:23:28.488252: I tensorflow/core/grappler/optimizers/custom_graph_optimizer_registry.cc:113] Plugin optimizer for device_type GPU is enabled.\n",
      "2022-04-21 17:23:28.550830: I tensorflow/core/grappler/optimizers/custom_graph_optimizer_registry.cc:113] Plugin optimizer for device_type GPU is enabled.\n"
     ]
    },
    {
     "data": {
      "image/png": "[encoded data removed]",
      "text/plain": [
       "<Figure size 432x288 with 1 Axes>"
      ]
     },
     "metadata": {
      "needs_background": "light"
     },
     "output_type": "display_data"
    }
   ],
   "source": [
    "rnn.predict_ahead(x=val_X, y=val_Y, start=0, steps_ahead=24)"
   ]
  }
 ],
 "metadata": {
  "interpreter": {
   "hash": "ca17c1f93d9cd2e095017b4da7ea2c1b4c751e519b05bc6c78eeb3e5f59d175a"
  },
  "kernelspec": {
   "display_name": "Python 3.8.5 ('venv': venv)",
   "language": "python",
   "name": "python3"
  },
  "language_info": {
   "codemirror_mode": {
    "name": "ipython",
    "version": 3
   },
   "file_extension": ".py",
   "mimetype": "text/x-python",
   "name": "python",
   "nbconvert_exporter": "python",
   "pygments_lexer": "ipython3",
   "version": "3.8.5"
  },
  "orig_nbformat": 4
 },
 "nbformat": 4,
 "nbformat_minor": 2
}
