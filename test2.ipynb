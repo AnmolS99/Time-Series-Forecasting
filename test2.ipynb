{
 "cells": [
  {
   "cell_type": "code",
   "execution_count": 1,
   "metadata": {},
   "outputs": [],
   "source": [
    "import math\n",
    "from matplotlib import pyplot as plt\n",
    "import numpy as np\n",
    "import tensorflow as tf\n",
    "import random\n",
    "\n",
    "from preprocessing import Preprocessor\n",
    "from network import RNN"
   ]
  },
  {
   "cell_type": "code",
   "execution_count": 2,
   "metadata": {},
   "outputs": [
    {
     "name": "stderr",
     "output_type": "stream",
     "text": [
      "2022-05-02 17:18:54.348450: I tensorflow/core/platform/cpu_feature_guard.cc:151] This TensorFlow binary is optimized with oneAPI Deep Neural Network Library (oneDNN) to use the following CPU instructions in performance-critical operations:  SSE4.2\n",
      "To enable them in other operations, rebuild TensorFlow with the appropriate compiler flags.\n"
     ]
    }
   ],
   "source": [
    "seq_len = 144\n",
    "epochs = 10\n",
    "batch_size = 32\n",
    "alt_forecasting = False\n",
    "\n",
    "pp = Preprocessor(train_path=\"datasets/no1_train.csv\",\n",
    "                    val_path=\"datasets/no1_validation.csv\",\n",
    "                    alt_forcasting=alt_forecasting)\n",
    "train_df, val_df, X_feat = pp.preprocess()\n",
    "rnn = RNN(seq_len=seq_len, num_feat=len(X_feat))\n",
    "\n",
    "train_X = pp.df_to_x(train_df[X_feat], seq_len=seq_len, noise_percent=0.0)\n",
    "train_Y = pp.df_to_y(train_df[\"y\"], seq_len=seq_len)\n",
    "val_X = pp.df_to_x(val_df[X_feat], seq_len=seq_len)\n",
    "val_Y = pp.df_to_y(val_df[\"y\"], seq_len=seq_len)\n"
   ]
  },
  {
   "cell_type": "code",
   "execution_count": 5,
   "metadata": {},
   "outputs": [
    {
     "data": {
      "text/plain": [
       "start_time           2019-02-24 17:50:00\n",
       "hydro                           0.168748\n",
       "micro                          -0.201421\n",
       "thermal                         0.875486\n",
       "wind                            -0.14025\n",
       "river                               -1.0\n",
       "total                           0.176806\n",
       "y                              -0.473548\n",
       "sys_reg                         0.271889\n",
       "flow                            0.073205\n",
       "load                            4960.259\n",
       "struct_imb                     -0.150446\n",
       "y_with_struct_imb              -0.473548\n",
       "min_day_sin                    -0.999048\n",
       "min_day_cos                    -0.043619\n",
       "day_0                                  0\n",
       "day_1                                  0\n",
       "day_2                                  0\n",
       "day_3                                  0\n",
       "day_4                                  0\n",
       "day_5                                  0\n",
       "day_6                                  1\n",
       "month_1                                0\n",
       "month_2                                1\n",
       "month_3                                0\n",
       "month_4                                0\n",
       "month_5                                0\n",
       "month_6                                0\n",
       "month_7                                0\n",
       "month_8                                0\n",
       "month_9                                0\n",
       "month_10                               0\n",
       "month_11                               0\n",
       "month_12                               0\n",
       "y_24h                          -0.470646\n",
       "y_prev                         -0.469787\n",
       "Name: 13292, dtype: object"
      ]
     },
     "execution_count": 5,
     "metadata": {},
     "output_type": "execute_result"
    }
   ],
   "source": [
    "train_df.iloc[13004]"
   ]
  }
 ],
 "metadata": {
  "interpreter": {
   "hash": "ca17c1f93d9cd2e095017b4da7ea2c1b4c751e519b05bc6c78eeb3e5f59d175a"
  },
  "kernelspec": {
   "display_name": "Python 3.8.5 ('venv': venv)",
   "language": "python",
   "name": "python3"
  },
  "language_info": {
   "codemirror_mode": {
    "name": "ipython",
    "version": 3
   },
   "file_extension": ".py",
   "mimetype": "text/x-python",
   "name": "python",
   "nbconvert_exporter": "python",
   "pygments_lexer": "ipython3",
   "version": "3.8.5"
  },
  "orig_nbformat": 4
 },
 "nbformat": 4,
 "nbformat_minor": 2
}
